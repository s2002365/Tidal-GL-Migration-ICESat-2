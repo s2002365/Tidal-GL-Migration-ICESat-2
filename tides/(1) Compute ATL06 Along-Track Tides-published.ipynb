{
 "cells": [
  {
   "cell_type": "markdown",
   "metadata": {},
   "source": [
    "## (1) Compute ATL06 Along-Track Modelled Tide Heights\n",
    "\n",
    "**Author:** Bryony Freer\n",
    "\n",
    "**Date Published:** 31 May 2023\n",
    "\n",
    "Script to be run in the pyTMD environment. \n",
    "\n",
    "It builds a command to be run on the command line to execute the **compute_tides_ICESat2_ATL06.py** script from PyTMD package (Sutterley et al., 2017). This calculates along-track tide heights from CATS2008a tide model for each ICESat-2 ground track.\n",
    "\n",
    "### Inputs \n",
    "* PyTMD scripts: **compute_tides_ICESat2_ATL06.py** and **model.py**. References:\n",
    "    * https://pytmd.readthedocs.io/en/latest/getting_started/Getting-Started.html\n",
    "    * https://github.com/tsutterley/pyTMD/blob/main/scripts/compute_tides_ICESat2_ATL06.py\n",
    "* Tide model: CATS2008a (Howard et al., 2019)\n",
    "    * Install/download here https://pytmd.readthedocs.io/en/latest/getting_started/Install.html\n",
    "* ATL06 file of ICESat-2 granule to compute tides for\n",
    "\n",
    "### Outputs\n",
    "hdf5 file with along-track tide heights matching specified ATL06 granule. (e.g. ATL06_CATS2008_TIDES_20200507034617_06350711_003_01.h5). \n",
    "\n",
    "Data structure of output hdf5 file: \n",
    "- ancillary_data\n",
    "    - ancillary_data/atlas_sdp_gps_epoch\n",
    "- gt1l\n",
    "    - gt1l/land_ice_segments\n",
    "    - gt1l/land_ice_segments/delta_time\n",
    "    - gt1l/land_ice_segments/geophysical\n",
    "        - gt1l/land_ice_segments/geophysical/tide_ocean\n",
    "    - gt1l/land_ice_segments/latitude\n",
    "    - gt1l/land_ice_segments/longitude\n",
    "    - gt1l/land_ice_segments/segment_id\n",
    "- *repeat for all gts...*\n",
    "\n",
    "### References\n",
    "\n",
    "Howard, S. L., Padman, L., and Erofeeva, S. Y.: CATS2008: Circum-Antarctic Tidal Simulation version 2008 (1), https://doi.org/10.15784/601235, 2019.\n",
    "\n",
    "T. C. Sutterley, K. Alley, K. Brunt, S. Howard, L. Padman, and M. Siegfried, “pyTMD: Python-based tidal prediction software”, (2017). doi: 10.5281/zenodo.5555395\n"
   ]
  },
  {
   "cell_type": "code",
   "execution_count": 1,
   "metadata": {},
   "outputs": [],
   "source": [
    "import h5py\n",
    "import numpy as np\n",
    "import glob\n",
    "import os\n",
    "import numpy as np\n",
    "import matplotlib.pyplot as plt \n",
    "import pyTMD.model\n",
    "import sys \n",
    "\n",
    "# run matplotlib in 'widget' mode\n",
    "%matplotlib widget\n",
    "%load_ext autoreload\n",
    "%autoreload 2"
   ]
  },
  {
   "cell_type": "markdown",
   "metadata": {},
   "source": [
    "### 1. Set file paths and RGTs"
   ]
  },
  {
   "cell_type": "code",
   "execution_count": 1,
   "metadata": {
    "scrolled": false
   },
   "outputs": [],
   "source": [
    "#Run compute_tides_ICESat2_ATL06.py script on all data from a desired track/cycle in specified folder \n",
    "\n",
    "atl06_dir = '' #Set link to directory containing ATL06 granules \n",
    "model_dir = '' # Set path to directory containing CATS2008 tide model\n",
    "pytmd_dir = '' #Set to path containing compute_tides_ICESat2_ATL06.py script\n",
    "\n",
    "#Set RGTs\n",
    "\n",
    "#Option A: Manually specify list of RGTs\n",
    "rgts = ['0537'] \n",
    "\n",
    "#Option B: Include all RGTs in a directory\n",
    "# rgts = [] \n",
    "# for filename in glob.glob(os.path.join(atl06_dir, f'*processed_ATL06_*.h5')):\n",
    "#     rgts.append(filename[-18:-14])\n",
    "# rgts = set(rgts)"
   ]
  },
  {
   "cell_type": "markdown",
   "metadata": {},
   "source": [
    "### 2. Run compute_tides_ICESat2_ATL06.py to calculate tides on specified ATL06 granules\n",
    "\n",
    "Filter by RGT and/or cycle numbers"
   ]
  },
  {
   "cell_type": "code",
   "execution_count": null,
   "metadata": {},
   "outputs": [],
   "source": [
    "#Option A: Run compute_tide_ICESat2_ATL06 on granules filtered by RGT only: \n",
    "for rgt in rgts:\n",
    "    for filename in glob.glob(os.path.join(atl06_dir, f'*processed_ATL06_*_{rgt}*.h5')):\n",
    "        print(filename)\n",
    "        #Construct command to be executed on command line \n",
    "        !python {pytmd_dir}scripts\\compute_tides_ICESat2_ATL06.py {filename} -D {model_dir} -T CATS2008 -V "
   ]
  },
  {
   "cell_type": "code",
   "execution_count": null,
   "metadata": {},
   "outputs": [],
   "source": [
    "#Option B: Run compute_tide_ICESat2_ATL06 on granules filtered by RGT and cycle: \n",
    "cycles = [] #List of cycles e.g. ['11','12','13']\n",
    "for rgt in rgts:\n",
    "    for cycle in cycles:\n",
    "        for filename in glob.glob(os.path.join(atl06_dir, f'*processed_ATL06_*_{rgt}{cycle}*.h5')): \n",
    "            print(filename)\n",
    "            #Construct command to be executed on command line \n",
    "            !python compute_tides_ICESat2_ATL06.py {filename} -D {model_dir} -T CATS2008 -V "
   ]
  }
 ],
 "metadata": {
  "kernelspec": {
   "display_name": "Python 3 (ipykernel)",
   "language": "python",
   "name": "python3"
  },
  "language_info": {
   "codemirror_mode": {
    "name": "ipython",
    "version": 3
   },
   "file_extension": ".py",
   "mimetype": "text/x-python",
   "name": "python",
   "nbconvert_exporter": "python",
   "pygments_lexer": "ipython3",
   "version": "3.8.12"
  }
 },
 "nbformat": 4,
 "nbformat_minor": 4
}
